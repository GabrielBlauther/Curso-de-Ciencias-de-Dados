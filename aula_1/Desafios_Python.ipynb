{
  "cells": [
    {
      "cell_type": "markdown",
      "id": "26e59ae9",
      "metadata": {
        "id": "26e59ae9"
      },
      "source": [
        "# <font color='blue'>Curso de Extensão - Introdução a Linguagem Python para Ciência de Dados - Desafios Python</font>"
      ]
    },
    {
      "cell_type": "markdown",
      "id": "7d42f9c0",
      "metadata": {
        "id": "7d42f9c0"
      },
      "source": [
        "DESAFIO 1: Ordenar uma lista de títulos de livros em ordem alfabética e deixá-los separados por vírgula.\n",
        "A lista de títulos é fornecida como uma string chamada \"titulos\", onde cada título está em uma nova linha.\n",
        "\n",
        "\n",
        "Segue exemplo de lista:\n",
        "O Senhor dos Anéis\n",
        "Harry Potter e a Pedra Filosofal\n",
        "1984\n",
        "O Lobo da Estepe\n",
        "Cem Anos de Solidão\n",
        "A Metamorfose\n",
        "A Revolução dos Bichos\n",
        "Crime e Castigo\n",
        "Macunaíma"
      ]
    },
    {
      "cell_type": "code",
      "execution_count": null,
      "id": "5f487c90",
      "metadata": {
        "id": "5f487c90"
      },
      "outputs": [],
      "source": []
    },
    {
      "cell_type": "markdown",
      "id": "7040ba36",
      "metadata": {
        "id": "7040ba36"
      },
      "source": [
        "DESAFIO 2: Você trabalha em uma biblioteca e recebeu uma lista de títulos de artigos.\n",
        "Sua tarefa é criar um programa que conte quantas vezes uma determinada palavra aparece nos títulos dos artigos.\n",
        "Para isso, você deve utilizar o método .split() para separar as palavras em cada título.\n",
        "\n",
        "artigos = [\n",
        "'RecurrentGPT: Interactive Generation of (Arbitrarily) Long Text',\n",
        "'VideoLLM: Modeling Video Sequence with Large Language Models',\n",
        "'Watermarking Text Data on Large Language Models for Dataset Copyright Protection',\n",
        "'InheritSumm: A General, Versatile and Compact Summarizer by Distilling from GPT',\n",
        "'Can Large Language Models emulate an inductive Thematic Analysis of semi-structured interviews? An exploration and provocation on the limits of the approach and the model',\n",
        "'GPT-SW3: An Autoregressive Language Model for the Nordic Languages',\n",
        "'The Emergence of Economic Rationality of GPT',\n",
        "'Can We Edit Factual Knowledge by In-Context Learning?',\n",
        "'G3Detector: General GPT-Generated Text Detector',\n",
        "'GPT Paternity Test: GPT Generated Text Detection with GPT Genetic Inheritance'\n",
        "]\n",
        "\n",
        "\n",
        "\n"
      ]
    },
    {
      "cell_type": "code",
      "execution_count": null,
      "id": "c63d3be6",
      "metadata": {
        "id": "c63d3be6"
      },
      "outputs": [],
      "source": []
    },
    {
      "cell_type": "markdown",
      "id": "c32099ad",
      "metadata": {
        "id": "c32099ad"
      },
      "source": [
        "DESAFIO 3:\n",
        "Escreva um programa que receba como entrada o título de um artigo, o nome de um autor e o ano de publicação. O programa deve gerar como saída um código contedo as informações de título, autor, ano de publicação e data/hora de entrada dos dados seguindo as regras:\n",
        "- o código deverá conter toda as letras maiúsculas\n",
        "- o código não deverá conter caracteres especiais e espaços em branco\n",
        "- o título deverá ser retornado de forma completa\n",
        "- somente os 3 primeiros caracteres do autor deverá ser retornado\n",
        "- utilizar como separador de informações de título, autor, ano publicação e data/hora o separador \"_\" .\n",
        "\n",
        "\n",
        "Utilize as bibliotecas datetime e unicodedata."
      ]
    },
    {
      "cell_type": "code",
      "execution_count": null,
      "id": "340bf54a",
      "metadata": {
        "id": "340bf54a"
      },
      "outputs": [],
      "source": []
    }
  ],
  "metadata": {
    "colab": {
      "provenance": []
    },
    "kernelspec": {
      "display_name": "Python 3 (ipykernel)",
      "language": "python",
      "name": "python3"
    },
    "language_info": {
      "codemirror_mode": {
        "name": "ipython",
        "version": 3
      },
      "file_extension": ".py",
      "mimetype": "text/x-python",
      "name": "python",
      "nbconvert_exporter": "python",
      "pygments_lexer": "ipython3",
      "version": "3.8.5"
    }
  },
  "nbformat": 4,
  "nbformat_minor": 5
}
