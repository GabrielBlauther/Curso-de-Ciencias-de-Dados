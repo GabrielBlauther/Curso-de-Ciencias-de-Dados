{
  "cells": [
    {
      "cell_type": "markdown",
      "metadata": {
        "id": "9svY8Tl3e4Ok"
      },
      "source": [
        "# <font color='blue'>Curso de Extensão - Introdução a Linguagem Python para Ciência de Dados - Aula 1 - Exemplos</font>"
      ]
    },
    {
      "cell_type": "markdown",
      "metadata": {
        "id": "WuHMHVn4e4On"
      },
      "source": [
        "## Operações matemáticas"
      ]
    },
    {
      "cell_type": "code",
      "execution_count": 1,
      "metadata": {
        "id": "fkH7FpQze4Oo",
        "outputId": "73b9b6a6-8ffa-4b03-e630-74ad646b5163"
      },
      "outputs": [
        {
          "name": "stdout",
          "output_type": "stream",
          "text": [
            "Hello  20  World -\n",
            "2+x= 22\n",
            "56 x X =  1120\n",
            "Quadrado de x: 400\n",
            "Divide por 5:  4.0\n"
          ]
        },
        {
          "data": {
            "text/plain": [
              "20"
            ]
          },
          "execution_count": 1,
          "metadata": {},
          "output_type": "execute_result"
        }
      ],
      "source": [
        "x = 20\n",
        "print(\"Hello \",x, \" World -\")\n",
        "print(\"2+x=\",2+x)\n",
        "print(\"56 x X = \",56*x)\n",
        "print(\"Quadrado de x:\", x**2)\n",
        "print(\"Divide por 5: \", x/5)\n",
        "x"
      ]
    },
    {
      "cell_type": "code",
      "execution_count": 2,
      "metadata": {
        "id": "6HoKU9Vze4Op",
        "outputId": "0866c353-4ac1-47c0-fc0f-128b9b10979b"
      },
      "outputs": [
        {
          "data": {
            "text/plain": [
              "12"
            ]
          },
          "execution_count": 2,
          "metadata": {},
          "output_type": "execute_result"
        }
      ],
      "source": [
        "x=10\n",
        "2+x"
      ]
    },
    {
      "cell_type": "code",
      "execution_count": null,
      "metadata": {
        "id": "7Cpwlyf4e4Oq",
        "outputId": "ede15919-0e5f-4c1d-a4e8-85bf9c9afd81"
      },
      "outputs": [
        {
          "name": "stdout",
          "output_type": "stream",
          "text": [
            "x: 5.2\n",
            "y: 3\n"
          ]
        },
        {
          "data": {
            "text/plain": [
              "float"
            ]
          },
          "execution_count": 3,
          "metadata": {},
          "output_type": "execute_result"
        }
      ],
      "source": [
        "#Identificando o tipo de dado usando type()\n",
        "x,y,z = 5.2,3,4\n",
        "print(\"x:\",x)\n",
        "print(\"y:\",y)\n",
        "type(x)"
      ]
    },
    {
      "cell_type": "markdown",
      "metadata": {
        "id": "xf7YDWxZe4Oq"
      },
      "source": [
        "## Manipulando Strings"
      ]
    },
    {
      "cell_type": "code",
      "execution_count": null,
      "metadata": {
        "id": "AB-t0JyBe4Oq",
        "outputId": "911619ef-5b90-4685-e15f-86e47ff14ba9"
      },
      "outputs": [
        {
          "name": "stdout",
          "output_type": "stream",
          "text": [
            "hello world\n",
            "teste: hello , world,  12\n",
            "teste: hello ,  world ,  12\n"
          ]
        }
      ],
      "source": [
        "#Concatenando strings\n",
        "hello = 'hello'\n",
        "world = 'world'\n",
        "hw = hello+' ' + world\n",
        "print(hw)\n",
        "hw2 = 'teste: %s , %s,  %d' % (hello,world,12)\n",
        "print(hw2)\n",
        "print('teste: '+ hello, \", \",world,\", \", 12)"
      ]
    },
    {
      "cell_type": "code",
      "execution_count": null,
      "metadata": {
        "id": "slqufxtfe4Or",
        "outputId": "5ae22b93-c527-48f1-e3ea-03af4dced1f2"
      },
      "outputs": [
        {
          "name": "stdout",
          "output_type": "stream",
          "text": [
            "N\n",
            "T\n",
            "PYTHONPYTHONPYTHONPYTHON\n",
            "YTHON\n",
            "YTH\n"
          ]
        }
      ],
      "source": [
        "#Extraindo caracteres de strings\n",
        "mystring2=\"PYTHON\"\n",
        "#String na posição 5\n",
        "print(mystring2[5])\n",
        "#String na posição 4 contando da direita para esquerda\n",
        "print(mystring2[-4])\n",
        "#concatenação de strings\n",
        "print(mystring2*4)\n",
        "#Imprime a string a partir da posição 1\n",
        "print(mystring2[1:])\n",
        "#Imprime a string da primeira até a terceira posição\n",
        "print(mystring2[1:4])"
      ]
    },
    {
      "cell_type": "markdown",
      "metadata": {
        "id": "-apQEf70e4Or"
      },
      "source": [
        "## Listas"
      ]
    },
    {
      "cell_type": "code",
      "execution_count": null,
      "metadata": {
        "id": "pZB3S2Abe4Or",
        "outputId": "f2579bfb-fdfb-442d-85eb-3b70237a41c1"
      },
      "outputs": [
        {
          "data": {
            "text/plain": [
              "['carro', 'passaro', '5']"
            ]
          },
          "execution_count": 7,
          "metadata": {},
          "output_type": "execute_result"
        }
      ],
      "source": [
        "#Criando uma lista de strings\n",
        "b = ['carro','passaro','5']\n",
        "type(b)\n",
        "b"
      ]
    },
    {
      "cell_type": "code",
      "execution_count": null,
      "metadata": {
        "id": "GBI8YvOZe4Os",
        "outputId": "33481809-fe77-45d8-fc5b-b0bb8091f621"
      },
      "outputs": [
        {
          "name": "stdout",
          "output_type": "stream",
          "text": [
            "[0, 1, 2, 3, 4, 5, 6, 7, 8, 9]\n",
            "[7, 8]\n",
            "[5, 6, 7, 8, 9]\n",
            "[0, 1, 2, 3, 4]\n",
            "[0, 1, 2, 3, 4, 5, 6, 7, 8, 9]\n",
            "[0, 1, 2, 3, 4, 5, 6, 7, 8]\n"
          ]
        }
      ],
      "source": [
        "nums = [0,1,2,3,4,5,6,7,8,9]\n",
        "print(nums)\n",
        "print(nums[7:9])\n",
        "print(nums[5:])\n",
        "print(nums[:5])\n",
        "print(nums[:])\n",
        "#Elimina o ultimo elemento\n",
        "print(nums[:-1])"
      ]
    },
    {
      "cell_type": "code",
      "execution_count": null,
      "metadata": {
        "id": "ovnWAZrYe4Os",
        "outputId": "9b169d9b-383c-415d-af98-af301ba33461"
      },
      "outputs": [
        {
          "name": "stdout",
          "output_type": "stream",
          "text": [
            "Antes:  0\n",
            "Depois:  0\n",
            "Antes:  1\n",
            "Depois:  1\n",
            "Antes:  2\n",
            "Depois:  4\n",
            "Antes:  3\n",
            "Depois:  9\n",
            "Antes:  4\n",
            "Depois:  16\n",
            "Antes:  5\n",
            "Depois:  25\n",
            "Antes:  6\n",
            "Depois:  36\n",
            "Antes:  7\n",
            "Depois:  49\n",
            "Antes:  8\n",
            "Depois:  64\n",
            "Antes:  9\n",
            "Depois:  81\n",
            "[0, 1, 4, 9, 16, 25, 36, 49, 64, 81]\n"
          ]
        }
      ],
      "source": [
        "#Loops - Exemplo lendo o array nums\n",
        "squares = []\n",
        "for i in nums:\n",
        "    print(\"Antes: \", i)\n",
        "    #grava em uma nova lista elevando ao quadrado os números da lista nums\n",
        "    squares.append(i**2)\n",
        "    j = i**2\n",
        "    print(\"Depois: \", j)\n",
        "print (squares)"
      ]
    },
    {
      "cell_type": "code",
      "execution_count": null,
      "metadata": {
        "id": "3jvImkqoe4Os",
        "outputId": "ed5f4d28-ab29-413f-8c1d-884ab3e7eb3f"
      },
      "outputs": [
        {
          "name": "stdout",
          "output_type": "stream",
          "text": [
            "[0, 1, 2, 3, 4, 5, 6, 7, 8, 9, 35, 45, 66, 0, 1, 4, 9, 16, 25, 36, 49, 64, 81]\n"
          ]
        }
      ],
      "source": [
        "newNums =  [35,45,66]\n",
        "#Concatenando duas listas\n",
        "print(nums+newNums+squares)"
      ]
    },
    {
      "cell_type": "markdown",
      "metadata": {
        "id": "2p9VOyLMe4Os"
      },
      "source": [
        "## Funções"
      ]
    },
    {
      "cell_type": "code",
      "execution_count": null,
      "metadata": {
        "id": "kONAjghDe4Os"
      },
      "outputs": [],
      "source": [
        "#Criando a função sinal que identifica se o número é positivo, negativo ou zero\n",
        "#input type: int\n",
        "def sinal(x):\n",
        "    if x > 0:\n",
        "        return 'positive'\n",
        "    elif x < 0:\n",
        "        return 'negative'\n",
        "    else:\n",
        "        return 'zero'"
      ]
    },
    {
      "cell_type": "code",
      "execution_count": null,
      "metadata": {
        "id": "R13Emvvce4Ot",
        "outputId": "94996309-d1dd-4ea6-d6c1-fc4b5087fc6e"
      },
      "outputs": [
        {
          "name": "stdout",
          "output_type": "stream",
          "text": [
            "-10  is  negative\n",
            "0  is  zero\n",
            "20  is  positive\n",
            "55  is  positive\n"
          ]
        }
      ],
      "source": [
        "#Chamando uma função\n",
        "for x in [-10, 0, 20, 55]:\n",
        "    print (x,\" is \",sinal(x))"
      ]
    },
    {
      "cell_type": "code",
      "execution_count": null,
      "metadata": {
        "id": "YavOZr8Re4Ot"
      },
      "outputs": [],
      "source": [
        "#Criando a função\n",
        "def multiplica(x,y):\n",
        "    print(x*y*2)"
      ]
    },
    {
      "cell_type": "code",
      "execution_count": null,
      "metadata": {
        "id": "GO0H7rPQe4Ot",
        "outputId": "7f3c76f8-e128-432a-d193-39ce73c83121"
      },
      "outputs": [
        {
          "name": "stdout",
          "output_type": "stream",
          "text": [
            "42\n",
            "None\n"
          ]
        }
      ],
      "source": [
        "#Chamando a função multiplica\n",
        "x=multiplica(7,3)\n",
        "print(x)"
      ]
    },
    {
      "cell_type": "markdown",
      "metadata": {
        "id": "jbrGB2tbe4Ot"
      },
      "source": [
        "## Tupla"
      ]
    },
    {
      "cell_type": "code",
      "execution_count": null,
      "metadata": {
        "id": "U9oID3DYe4Ot",
        "outputId": "73c6b7af-8f03-404d-c162-69155b02e520"
      },
      "outputs": [
        {
          "name": "stdout",
          "output_type": "stream",
          "text": [
            "(1, 2, 3, 4, 'false', 3.56, 'novoregistro', False)\n",
            "<class 'tuple'>\n"
          ]
        }
      ],
      "source": [
        "#Criando uma tupla com diferentes tipos de dados\n",
        "x=(1,2,3,4,\"false\",3.56,\"novoregistro\",False)\n",
        "print(x)\n",
        "print(type(x))"
      ]
    },
    {
      "cell_type": "markdown",
      "metadata": {
        "id": "40cSKciAe4Ot"
      },
      "source": [
        "## Dicionário"
      ]
    },
    {
      "cell_type": "code",
      "execution_count": null,
      "metadata": {
        "id": "KlE0F3Rge4Ou",
        "outputId": "5e3e2943-59c8-4acd-92ed-ea3ade4143a4"
      },
      "outputs": [
        {
          "name": "stdout",
          "output_type": "stream",
          "text": [
            "{'first_name': 'ratnakar', 'last_name': 'pandey', 'city': 'bangalore', 'country': 'india'}\n",
            "Keys:  dict_keys(['first_name', 'last_name', 'city', 'country'])\n",
            "Values: dict_values(['ratnakar', 'pandey', 'bangalore', 'india'])\n"
          ]
        }
      ],
      "source": [
        "mydict={\"first_name\":\"ratnakar\", \"last_name\":\"pandey\",\"city\":\"bangalore\",\"country\":\"india\"}\n",
        "print(mydict)\n",
        "print(\"Keys: \", mydict.keys())\n",
        "print(\"Values:\", mydict.values())"
      ]
    },
    {
      "cell_type": "code",
      "execution_count": null,
      "metadata": {
        "id": "NQhs2U9we4Ou",
        "outputId": "6d247bb0-c9cf-4363-ce76-dea2a1e9fdb1"
      },
      "outputs": [
        {
          "name": "stdout",
          "output_type": "stream",
          "text": [
            "City:  bangalore\n",
            "{'first_name': 'ratnakar', 'last_name': 'osoko', 'city': 'bangalore', 'country': 'india', 'state': 'ka'}\n"
          ]
        }
      ],
      "source": [
        "print(\"City: \", mydict['city'])\n",
        "#atualizando a lista com um novo elemento chave+valor\n",
        "mydict.update({'state':'ka'})\n",
        "# atualizando um valor da chave\n",
        "mydict.update({'last_name':'osoko'})\n",
        "print(mydict)"
      ]
    },
    {
      "cell_type": "code",
      "execution_count": null,
      "metadata": {
        "id": "QQa_bwGPe4Ou",
        "outputId": "e985c2c0-1cb3-49c2-ea93-977f85c2b030"
      },
      "outputs": [
        {
          "name": "stdout",
          "output_type": "stream",
          "text": [
            "{'first_name': 'ratnakar', 'last_name': 'osoko', 'city': 'bangalore', 'country': 'india', 'state': 'ka', 'age': '35'}\n"
          ]
        }
      ],
      "source": [
        "#Adicionando um novo elemento chave+valor no dicionário\n",
        "mydict['age'] = '35'\n",
        "print(mydict)"
      ]
    },
    {
      "cell_type": "code",
      "execution_count": null,
      "metadata": {
        "id": "tr33Q21be4Ou",
        "outputId": "14e570c7-aefa-4edd-a0dd-c9dcb1ce4680"
      },
      "outputs": [
        {
          "name": "stdout",
          "output_type": "stream",
          "text": [
            "osoko\n"
          ]
        }
      ],
      "source": [
        "#Imprimir apenas um valor da lista a partir da chave\n",
        "print(mydict['last_name'])"
      ]
    },
    {
      "cell_type": "markdown",
      "metadata": {
        "id": "K3GET-B3e4Ou"
      },
      "source": [
        "## Exceções"
      ]
    },
    {
      "cell_type": "code",
      "execution_count": null,
      "metadata": {
        "id": "Lo9LGJbNe4Ou",
        "outputId": "4f666e4c-2b72-4edb-a9b7-ca502ad669fb"
      },
      "outputs": [
        {
          "name": "stdout",
          "output_type": "stream",
          "text": [
            "Please enter a numeric value:oi\n",
            "What you entered is not a numeric value!Please try again!\n",
            "Processing Completed-Hope you found what you were looking for\n"
          ]
        }
      ],
      "source": [
        "try:\n",
        "    #Ask for ussers to input certain information\n",
        "    value=input(\"Please enter a numeric value:\")\n",
        "    result = 1/float(value)\n",
        "    print(\"1/\"+value+\"=\"+str(result))\n",
        "except ValueError as error:\n",
        "    print(\"What you entered is not a numeric value!Please try again!\")\n",
        "except ZeroDivisionError as error:\n",
        "    print(\"Oops can't divide by 0!\")\n",
        "finally:\n",
        "    print(\"Processing Completed-Hope you found what you were looking for\")"
      ]
    },
    {
      "cell_type": "code",
      "execution_count": null,
      "metadata": {
        "id": "CGPbNoJMe4Ov"
      },
      "outputs": [],
      "source": []
    }
  ],
  "metadata": {
    "colab": {
      "provenance": []
    },
    "kernelspec": {
      "display_name": "ciencia-dados",
      "language": "python",
      "name": "python3"
    },
    "language_info": {
      "codemirror_mode": {
        "name": "ipython",
        "version": 3
      },
      "file_extension": ".py",
      "mimetype": "text/x-python",
      "name": "python",
      "nbconvert_exporter": "python",
      "pygments_lexer": "ipython3",
      "version": "3.11.13"
    }
  },
  "nbformat": 4,
  "nbformat_minor": 0
}
