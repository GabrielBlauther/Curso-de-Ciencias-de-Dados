{
  "cells": [
    {
      "cell_type": "markdown",
      "metadata": {
        "id": "N2S2hfS_i7_R"
      },
      "source": [
        "## <font color='blue'>Curso de Extensão: Introdução a Linguagem Python para Ciência de Dados - Numpy</font>"
      ]
    },
    {
      "cell_type": "code",
      "execution_count": null,
      "metadata": {
        "id": "q256JpT5i7_V"
      },
      "outputs": [],
      "source": [
        "import numpy as np"
      ]
    },
    {
      "cell_type": "code",
      "execution_count": null,
      "metadata": {
        "id": "O85Wohqki7_X",
        "outputId": "b792fcf9-99a3-4300-f3f9-a37826b338eb"
      },
      "outputs": [
        {
          "name": "stdout",
          "output_type": "stream",
          "text": [
            "Requirement already satisfied: numpy in c:\\users\\renata.paris\\miniconda3\\lib\\site-packages (1.21.0)\n"
          ]
        }
      ],
      "source": [
        "#!pip install numpy"
      ]
    },
    {
      "cell_type": "code",
      "execution_count": null,
      "metadata": {
        "id": "y6dvHi-Xi7_Y",
        "outputId": "24bf1666-c198-429d-e0ab-32d405cf6b5b"
      },
      "outputs": [
        {
          "name": "stdout",
          "output_type": "stream",
          "text": [
            "[10 20 30]\n",
            "[40 50 60]\n",
            "Soma dos arrays:  [50 70 90]\n"
          ]
        }
      ],
      "source": [
        "#Cria um numpy array\n",
        "#x = [10,20,30]\n",
        "x = numpy.array([10,20,30])\n",
        "print(x)\n",
        "y = np.array([40,50,60])\n",
        "print(y)\n",
        "#Soma elementos de dois np arrays\n",
        "print(\"Soma dos arrays: \",x+y)"
      ]
    },
    {
      "cell_type": "code",
      "execution_count": null,
      "metadata": {
        "id": "JyLEeWfdi7_Z",
        "outputId": "a5345a6b-dc81-49a5-af97-4a5977429a86"
      },
      "outputs": [
        {
          "name": "stdout",
          "output_type": "stream",
          "text": [
            "[[10 20]\n",
            " [30 40]]\n"
          ]
        }
      ],
      "source": [
        "#Cria np array no formato de matriz\n",
        "x = np.array([[10,20],[30,40]])\n",
        "print(x)"
      ]
    },
    {
      "cell_type": "code",
      "execution_count": null,
      "metadata": {
        "id": "9cVpn_S1i7_Z",
        "outputId": "6886d0ed-bcf6-49e4-faa0-05f3f9265d50"
      },
      "outputs": [
        {
          "name": "stdout",
          "output_type": "stream",
          "text": [
            "Soma todos:  100\n",
            "Soma por coluna:  [40 60]\n",
            "Soma por linha:  [30 70]\n"
          ]
        }
      ],
      "source": [
        "#Soma todos os elementos da matriz\n",
        "print(\"Soma todos: \",np.sum(x))\n",
        "#Soma por coluna, onde axis=0 identifica a coluna\n",
        "print(\"Soma por coluna: \", np.sum(x,axis=0))\n",
        "#Soma por linha, onde axis=1 identifica a linha\n",
        "print(\"Soma por linha: \", np.sum(x,axis=1))"
      ]
    },
    {
      "cell_type": "code",
      "execution_count": null,
      "metadata": {
        "id": "SlVJHDOGi7_Z",
        "outputId": "cdcff480-1962-4878-c168-ba4f41c209fe"
      },
      "outputs": [
        {
          "name": "stdout",
          "output_type": "stream",
          "text": [
            "[  5  10  15  20  25  30  35  40  45  50  55  60  65  70  75  80  85  90\n",
            "  95 100]\n"
          ]
        }
      ],
      "source": [
        "#Gera um vetor de números de 5 a 101, intercalando de 5 em 5.\n",
        "z_arr = np.arange(5,101,5)\n",
        "print(z_arr)"
      ]
    },
    {
      "cell_type": "code",
      "execution_count": null,
      "metadata": {
        "id": "D-ckG7Bni7_a",
        "outputId": "bda34a02-6d3f-4ff0-cf49-e0d9b0473832"
      },
      "outputs": [
        {
          "name": "stdout",
          "output_type": "stream",
          "text": [
            "[[ 0  1  2  3]\n",
            " [ 4  5  6  7]\n",
            " [ 8  9 10 11]\n",
            " [12 13 14 15]\n",
            " [16 17 18 19]]\n"
          ]
        }
      ],
      "source": [
        "#Gera um numpy array com números de 0 a 20, com dimensão 5 x 4 (5 linhas e 4 colunas)\n",
        "y=np.arange(20).reshape(5,4)\n",
        "print(y)"
      ]
    },
    {
      "cell_type": "code",
      "execution_count": null,
      "metadata": {
        "id": "apxzZdpEi7_a",
        "outputId": "9ce4af52-625a-4a08-bcdd-95231891a3ff"
      },
      "outputs": [
        {
          "name": "stdout",
          "output_type": "stream",
          "text": [
            "[[[ 0  1]\n",
            "  [ 2  3]]\n",
            "\n",
            " [[ 4  5]\n",
            "  [ 6  7]]\n",
            "\n",
            " [[ 8  9]\n",
            "  [10 11]]\n",
            "\n",
            " [[12 13]\n",
            "  [14 15]]\n",
            "\n",
            " [[16 17]\n",
            "  [18 19]]]\n"
          ]
        }
      ],
      "source": [
        "#Aplica um reshape em y para gerar 5 arrays no formato 2x2.\n",
        "#Sintaxe: reshape(quantity of arrays,line,column)\n",
        "y=y.reshape(5,2,2)\n",
        "print(y)"
      ]
    },
    {
      "cell_type": "code",
      "execution_count": null,
      "metadata": {
        "id": "oiJ8r7_zi7_a",
        "outputId": "ea3732d9-f6bf-45b7-f9b7-03eab62419dc"
      },
      "outputs": [
        {
          "name": "stdout",
          "output_type": "stream",
          "text": [
            "Shape de y:  (5, 2, 2)\n",
            "Dimensão de y:  3\n",
            "Tamanho de y:  20\n",
            "Tipo dos dados:  int32\n"
          ]
        }
      ],
      "source": [
        "print(\"Shape de y: \", y.shape)\n",
        "print(\"Dimensão de y: \", y.ndim)\n",
        "print(\"Tamanho de y: \", y.size)\n",
        "print(\"Tipo dos dados: \", y.dtype)"
      ]
    },
    {
      "cell_type": "code",
      "execution_count": null,
      "metadata": {
        "id": "A94V6mtki7_b",
        "outputId": "6c0c4f6d-b428-4a6a-be83-87e7dc50e557"
      },
      "outputs": [
        {
          "name": "stdout",
          "output_type": "stream",
          "text": [
            "[[0. 0. 0. 0. 0.]\n",
            " [0. 0. 0. 0. 0.]\n",
            " [0. 0. 0. 0. 0.]\n",
            " [0. 0. 0. 0. 0.]\n",
            " [0. 0. 0. 0. 0.]]\n"
          ]
        }
      ],
      "source": [
        "#Gera um np array 5x5 contedo o valor 0\n",
        "zeros = np.zeros((5,5)) #zeros\n",
        "print(zeros)"
      ]
    },
    {
      "cell_type": "code",
      "execution_count": null,
      "metadata": {
        "id": "h75jDH6qi7_b",
        "outputId": "eb1aec48-9146-4889-cd3a-ba3a87bac1c3"
      },
      "outputs": [
        {
          "name": "stdout",
          "output_type": "stream",
          "text": [
            "[[1. 1.]\n",
            " [1. 1.]\n",
            " [1. 1.]\n",
            " [1. 1.]\n",
            " [1. 1.]\n",
            " [1. 1.]\n",
            " [1. 1.]\n",
            " [1. 1.]\n",
            " [1. 1.]\n",
            " [1. 1.]]\n"
          ]
        }
      ],
      "source": [
        "#Gera um np array 10x2 contedo o valor 1\n",
        "ones = np.ones((10,2))\n",
        "print(ones)"
      ]
    },
    {
      "cell_type": "code",
      "execution_count": null,
      "metadata": {
        "id": "N3Rf7b2Hi7_b",
        "outputId": "a11a9583-448a-4a38-b68c-857d98b5f6c5"
      },
      "outputs": [
        {
          "name": "stdout",
          "output_type": "stream",
          "text": [
            "[[10 10 10 10 10]\n",
            " [10 10 10 10 10]\n",
            " [10 10 10 10 10]\n",
            " [10 10 10 10 10]\n",
            " [10 10 10 10 10]\n",
            " [10 10 10 10 10]\n",
            " [10 10 10 10 10]\n",
            " [10 10 10 10 10]\n",
            " [10 10 10 10 10]\n",
            " [10 10 10 10 10]]\n"
          ]
        }
      ],
      "source": [
        "#Gera um np array 10x5 contendo o número 3\n",
        "equals = np.full((10,5),10) #replica\n",
        "print(equals)"
      ]
    },
    {
      "cell_type": "code",
      "execution_count": null,
      "metadata": {
        "id": "UbDKBTzLi7_b",
        "outputId": "6adfd81f-d7ed-4706-dede-2d70bedcfc95"
      },
      "outputs": [
        {
          "name": "stdout",
          "output_type": "stream",
          "text": [
            "[[0.981 0.54  0.804 0.563 0.164 0.718]\n",
            " [0.471 0.3   0.542 0.434 0.566 0.516]\n",
            " [0.674 0.395 0.809 0.195 0.958 0.943]\n",
            " [0.826 0.73  0.204 0.256 0.759 0.334]\n",
            " [0.732 0.511 0.582 0.214 0.353 0.748]\n",
            " [0.32  0.114 0.716 0.82  0.276 0.375]]\n"
          ]
        }
      ],
      "source": [
        "#Gera um np array 6x6 contendo apenas números randômicos\n",
        "randons = np.around(np.random.random((6,6)),3)\n",
        "#randons = np.random.random((6,6))\n",
        "print(randons)"
      ]
    },
    {
      "cell_type": "code",
      "execution_count": null,
      "metadata": {
        "id": "Uli9lT6xi7_b",
        "outputId": "6854804f-86e4-482e-e95a-b8c6dde9d425"
      },
      "outputs": [
        {
          "name": "stdout",
          "output_type": "stream",
          "text": [
            "[[ 10  20  30  40]\n",
            " [ 50  60  70  80]\n",
            " [ 90 100 110 120]]\n"
          ]
        }
      ],
      "source": [
        "#Cria um np array\n",
        "a = np.array([[10,20,30,40],[50,60,70,80],[90,100,110,120]])\n",
        "print(a)"
      ]
    },
    {
      "cell_type": "code",
      "execution_count": null,
      "metadata": {
        "id": "k8ELcUufi7_b",
        "outputId": "c61f74f5-a385-415b-d881-169c210afe07"
      },
      "outputs": [
        {
          "name": "stdout",
          "output_type": "stream",
          "text": [
            "Array b\n",
            "[[20 30]\n",
            " [60 70]]\n"
          ]
        }
      ],
      "source": [
        "#Slice the np array: pega os dados até a linha 3 (excludente) e as colunas de 0 a 2 (excludente)\n",
        "b=a[0:2,1:3]\n",
        "print(\"Array b\")\n",
        "print(b)"
      ]
    },
    {
      "cell_type": "code",
      "execution_count": null,
      "metadata": {
        "id": "r_XFAZMti7_c",
        "outputId": "8e29d7b1-1bf4-4b2c-f803-05ff5de69022"
      },
      "outputs": [
        {
          "name": "stdout",
          "output_type": "stream",
          "text": [
            "Array a\n",
            "20\n",
            "Array b\n",
            "[[77 30]\n",
            " [60 70]]\n",
            "Array a\n",
            "100\n"
          ]
        }
      ],
      "source": [
        "print(\"Array a\")\n",
        "print(a[0,1])\n",
        "b[0,0]=77\n",
        "print(\"Array b\")\n",
        "print(b)\n",
        "print(\"Array a\")\n",
        "print(a[2,1])"
      ]
    },
    {
      "cell_type": "code",
      "execution_count": null,
      "metadata": {
        "id": "Wxvz25yVi7_c"
      },
      "outputs": [],
      "source": []
    }
  ],
  "metadata": {
    "kernelspec": {
      "display_name": "Python 3 (ipykernel)",
      "language": "python",
      "name": "python3"
    },
    "language_info": {
      "codemirror_mode": {
        "name": "ipython",
        "version": 3
      },
      "file_extension": ".py",
      "mimetype": "text/x-python",
      "name": "python",
      "nbconvert_exporter": "python",
      "pygments_lexer": "ipython3",
      "version": "3.8.5"
    },
    "colab": {
      "provenance": []
    }
  },
  "nbformat": 4,
  "nbformat_minor": 0
}