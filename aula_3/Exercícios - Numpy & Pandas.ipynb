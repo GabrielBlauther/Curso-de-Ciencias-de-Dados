{
 "cells": [
  {
   "cell_type": "markdown",
   "id": "c05c825a",
   "metadata": {},
   "source": [
    "# <font color='blue'>Curso de Extensão - Análise de Dados em Python - Exercícios Numpy & Pandas</font>"
   ]
  },
  {
   "cell_type": "code",
   "execution_count": 1,
   "id": "3a518c8e",
   "metadata": {},
   "outputs": [],
   "source": [
    "import numpy as np\n",
    "import pandas as pd"
   ]
  },
  {
   "cell_type": "markdown",
   "id": "10d69196",
   "metadata": {},
   "source": [
    "#### 1) Crie o dataframe \"medidas_df\" contendo informações de peso e altura a partir do dicionário a seguir:"
   ]
  },
  {
   "cell_type": "code",
   "execution_count": 16,
   "id": "60218968",
   "metadata": {},
   "outputs": [
    {
     "name": "stdout",
     "output_type": "stream",
     "text": [
      "{'Peso': (9999, 67, 70, nan, 86, 62, 75, 69, 50, 222), 'Altura': (1.79, 1.65, 1.75, 1.6, 1.55, 9999, nan, nan, 1.82, nan)}\n"
     ]
    }
   ],
   "source": [
    "medidas_dict = {'Peso': (9999, 67, 70, np.NAN, 86, 62, 75, 69, 50, 222),\n",
    "                'Altura': (1.79, 1.65, 1.75, 1.60, 1.55, 9999, np.NAN, np.NAN, 1.82, np.NAN),\n",
    "        }\n",
    "print(medidas_dict)"
   ]
  },
  {
   "cell_type": "code",
   "execution_count": null,
   "id": "cd8ab082",
   "metadata": {},
   "outputs": [],
   "source": []
  },
  {
   "cell_type": "markdown",
   "id": "75f8a914",
   "metadata": {},
   "source": [
    "#### 2) Crie um novo dataframe que receba o dataframe \"medidas_df\" contendo os valores ruidosos substituídos por nullo (NaN). "
   ]
  },
  {
   "cell_type": "markdown",
   "id": "99cc74a0",
   "metadata": {},
   "source": [
    "#### 3) Crie um novo dataframe que receba o dataframe do exercício 2 contendo os valores nulos substituídos por valores reais. Escolha uma medida para realizar a substituição que pode ser média, mediana, min, max, etc."
   ]
  },
  {
   "cell_type": "markdown",
   "id": "a7fa2792",
   "metadata": {},
   "source": [
    "#### 4) Carregue uma tabela utilizando uma url, e atribua o DataFrame a uma variável chamada ```chipo_df```\n",
    "\n",
    "URL: https://raw.githubusercontent.com/justmarkham/DAT8/master/data/chipotle.tsv"
   ]
  },
  {
   "cell_type": "code",
   "execution_count": 2,
   "id": "a9bef93b",
   "metadata": {},
   "outputs": [],
   "source": [
    "#utilize o método read_csv\n",
    "#faça a análise descritiva dos dados"
   ]
  },
  {
   "cell_type": "markdown",
   "id": "07c2c273",
   "metadata": {},
   "source": [
    "#### 5) Verifique a quantidade de linhas e colunas do dataframe ```chipo_df``` e imprima o nome das colunas."
   ]
  },
  {
   "cell_type": "markdown",
   "id": "34476f73",
   "metadata": {},
   "source": [
    "#### 6) Ordene o dataframe ```chipo_df``` de acordo com o nome dos itens. Utilize o método df.sort_values()."
   ]
  },
  {
   "cell_type": "markdown",
   "id": "6e606698",
   "metadata": {},
   "source": [
    "#### 7) Exclua a 6ª e 14ª linhas do dataframe ```chipo_df```."
   ]
  },
  {
   "cell_type": "markdown",
   "id": "7ce8159f",
   "metadata": {},
   "source": [
    "#### 8) Crie uma função que calcule e retorne a quantidade de Steak Burrito vendidos no dataframe ```chipo_df```."
   ]
  },
  {
   "cell_type": "markdown",
   "id": "6eda9187",
   "metadata": {},
   "source": [
    "#### 9) Calcule o valor total vendido de cada item. Para tal será necessário transformar o campo item_price para numérico da seguinte forma:"
   ]
  },
  {
   "cell_type": "code",
   "execution_count": 1,
   "id": "fd28201a",
   "metadata": {},
   "outputs": [],
   "source": [
    "#Elimina o $ da frente do valor\n",
    "#Apply é um método usado para aplicar uma função em cada registro de uma determinada coluna ou linha.\n",
    "#chipo_df.item_price = chipo_df.item_price.apply(lambda x: x.replace('$',''))"
   ]
  },
  {
   "cell_type": "code",
   "execution_count": 2,
   "id": "e83223dd",
   "metadata": {},
   "outputs": [],
   "source": [
    "#Converte os valores da coluna de string para numérico\n",
    "#chipo_df.item_price = pd.to_numeric(chipo_df.item_price, errors='coerce')"
   ]
  },
  {
   "cell_type": "markdown",
   "id": "f416ee7d",
   "metadata": {},
   "source": [
    "#### 10) Verifique quais foram os valores de venda média, mínima e máxima do dataframe ```chipo_df```."
   ]
  },
  {
   "cell_type": "markdown",
   "id": "4f79eb83",
   "metadata": {},
   "source": [
    "#### 11) Quantos produtos custam mais que \\$10.00 no dataframe ```chipo_df``` ?"
   ]
  },
  {
   "cell_type": "markdown",
   "id": "c1aedb59",
   "metadata": {},
   "source": [
    "#### 12) Adicione mais uma coluna chamada delivery ao final do dataframe ```chipo_df``` que contenha o valor final com a adição de 3% de taxa de entrega para cada venda, arredondando os valores para 2 casas decimais."
   ]
  },
  {
   "cell_type": "markdown",
   "id": "482278d9",
   "metadata": {},
   "source": [
    "#### 13) Calcule quantas vezes o produto Canned Soda foi vendido mais do que uma vez em uma mesma venda (quantidade >1) no dataset ```chipo_df```."
   ]
  },
  {
   "cell_type": "code",
   "execution_count": null,
   "id": "b0f75401",
   "metadata": {},
   "outputs": [],
   "source": []
  }
 ],
 "metadata": {
  "kernelspec": {
   "display_name": "ciencia-dados",
   "language": "python",
   "name": "python3"
  },
  "language_info": {
   "codemirror_mode": {
    "name": "ipython",
    "version": 3
   },
   "file_extension": ".py",
   "mimetype": "text/x-python",
   "name": "python",
   "nbconvert_exporter": "python",
   "pygments_lexer": "ipython3",
   "version": "3.11.13"
  }
 },
 "nbformat": 4,
 "nbformat_minor": 5
}
